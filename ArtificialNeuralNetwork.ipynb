{
  "nbformat": 4,
  "nbformat_minor": 0,
  "metadata": {
    "colab": {
      "name": "Untitled0.ipynb",
      "provenance": [],
      "authorship_tag": "ABX9TyP25y0o0Q/NA2aS4ZtPHdj+",
      "include_colab_link": true
    },
    "kernelspec": {
      "name": "python3",
      "display_name": "Python 3"
    },
    "accelerator": "GPU"
  },
  "cells": [
    {
      "cell_type": "markdown",
      "metadata": {
        "id": "view-in-github",
        "colab_type": "text"
      },
      "source": [
        "<a href=\"https://colab.research.google.com/github/samyam200200/python/blob/master/ArtificialNeuralNetwork.ipynb\" target=\"_parent\"><img src=\"https://colab.research.google.com/assets/colab-badge.svg\" alt=\"Open In Colab\"/></a>"
      ]
    },
    {
      "cell_type": "code",
      "metadata": {
        "id": "io_bvVob7MTa",
        "colab_type": "code",
        "colab": {}
      },
      "source": [
        "import numpy as np\n",
        "import matplotlib.pyplot as plt\n",
        "import pandas as pd"
      ],
      "execution_count": 8,
      "outputs": []
    },
    {
      "cell_type": "code",
      "metadata": {
        "id": "5NUTW78f7uT8",
        "colab_type": "code",
        "colab": {}
      },
      "source": [
        "#import\n",
        "dataset=pd.read_csv(\"Churn_Modelling.csv\")\n",
        "X=dataset.iloc[:,3:13].values\n",
        "Y=dataset.iloc[:,13].values"
      ],
      "execution_count": 9,
      "outputs": []
    },
    {
      "cell_type": "code",
      "metadata": {
        "id": "h1nfWozbRmAa",
        "colab_type": "code",
        "colab": {}
      },
      "source": [
        "#one hot encoding variables\n",
        "from sklearn.preprocessing import LabelEncoder, OneHotEncoder\n",
        "from sklearn.compose import ColumnTransformer\n",
        "# Country column\n",
        "ct = ColumnTransformer([(\"Geo\", OneHotEncoder(), [1])], remainder = 'passthrough')\n",
        "X = ct.fit_transform(X)\n",
        "\n",
        "# Male/Female\n",
        "labelencoder_X = LabelEncoder()\n",
        "X[:, 4] = labelencoder_X.fit_transform(X[:, 4])\n",
        "X = X.astype('float64')"
      ],
      "execution_count": 10,
      "outputs": []
    },
    {
      "cell_type": "code",
      "metadata": {
        "id": "HeE0PaI3RthR",
        "colab_type": "code",
        "colab": {}
      },
      "source": [
        "#removing 1 dummy varibale ie 0 \n",
        "X=X[:,1:]"
      ],
      "execution_count": 11,
      "outputs": []
    },
    {
      "cell_type": "code",
      "metadata": {
        "id": "uGlK9vA9R5PA",
        "colab_type": "code",
        "colab": {}
      },
      "source": [
        "#Splitting data\n",
        "from sklearn.model_selection import train_test_split\n",
        "X_train, X_test, Y_train, Y_test=train_test_split(X, Y, test_size=0.20, random_state=0)"
      ],
      "execution_count": 12,
      "outputs": []
    },
    {
      "cell_type": "code",
      "metadata": {
        "id": "TtS0fTvLSAxR",
        "colab_type": "code",
        "colab": {}
      },
      "source": [
        "#Feature Scaling\n",
        "from sklearn.preprocessing import StandardScaler\n",
        "sc=StandardScaler()\n",
        "X_train=sc.fit_transform(X_train)\n",
        "X_test=sc.transform(X_test)"
      ],
      "execution_count": 13,
      "outputs": []
    },
    {
      "cell_type": "code",
      "metadata": {
        "id": "DzeD0gIGSGZ4",
        "colab_type": "code",
        "colab": {
          "base_uri": "https://localhost:8080/",
          "height": 34
        },
        "outputId": "664d4509-5c22-4220-857c-88b69e1f79d5"
      },
      "source": [
        "#Making ANN\n",
        "# Importing Keras\n",
        "import keras"
      ],
      "execution_count": 14,
      "outputs": [
        {
          "output_type": "stream",
          "text": [
            "Using TensorFlow backend.\n"
          ],
          "name": "stderr"
        }
      ]
    },
    {
      "cell_type": "code",
      "metadata": {
        "id": "XhKxIwo2U23d",
        "colab_type": "code",
        "colab": {}
      },
      "source": [
        "from keras.models import Sequential\n",
        "from keras.layers import Dense"
      ],
      "execution_count": 15,
      "outputs": []
    },
    {
      "cell_type": "code",
      "metadata": {
        "id": "SIT-CvkoWl3e",
        "colab_type": "code",
        "colab": {}
      },
      "source": [
        "#Initalizing ANN\n",
        "classifier=Sequential()"
      ],
      "execution_count": 16,
      "outputs": []
    },
    {
      "cell_type": "code",
      "metadata": {
        "id": "pPtCNVtiW8U1",
        "colab_type": "code",
        "colab": {}
      },
      "source": [
        "# Adding first layer -  input layera and first hidden layer\n",
        "# units = output_dim (i.e. number of hidden layers equal to inputlayers(11)+outputlayers(1)/2)\n",
        "# init=kernel_initializer (initial weights)\n",
        "# input_dim (input layers)\n",
        "classifier.add(Dense(units=6, kernel_initializer=\"uniform\", activation=\"relu\", input_dim=11))"
      ],
      "execution_count": 17,
      "outputs": []
    },
    {
      "cell_type": "code",
      "metadata": {
        "id": "R88a9kLrZ5un",
        "colab_type": "code",
        "colab": {}
      },
      "source": [
        "#adding new layer\n",
        "#this is added to previous neural network, its not needed to add input layer\n",
        "classifier.add(Dense(units=6, kernel_initializer=\"uniform\", activation=\"relu\"))"
      ],
      "execution_count": 18,
      "outputs": []
    },
    {
      "cell_type": "code",
      "metadata": {
        "id": "2QPRfbyVagXN",
        "colab_type": "code",
        "colab": {}
      },
      "source": [
        "#output layer\n",
        "#softmax for more than one output\n",
        "classifier.add(Dense(units=1, kernel_initializer=\"uniform\", activation=\"sigmoid\"))"
      ],
      "execution_count": 19,
      "outputs": []
    },
    {
      "cell_type": "code",
      "metadata": {
        "id": "D5CjC0_cbBgQ",
        "colab_type": "code",
        "colab": {}
      },
      "source": [
        "#Compiling ANN\n",
        "#adam is for stochastic gradient descent\n",
        "#loss function is for the weights, here for logistic regression we will use lograthmic loss\n",
        "#more than 2 varibale categorical_crossentropy\n",
        "#what is used to improve the goodness of model\n",
        "classifier.compile(optimizer=\"adam\", loss=\"binary_crossentropy\", metrics=['accuracy'])"
      ],
      "execution_count": 20,
      "outputs": []
    },
    {
      "cell_type": "code",
      "metadata": {
        "id": "tZzEzNIycY_m",
        "colab_type": "code",
        "colab": {
          "base_uri": "https://localhost:8080/",
          "height": 1000
        },
        "outputId": "e027f3af-6cb2-4ba4-e4c6-fbf14c338aa2"
      },
      "source": [
        "# fitting ANN into the dataset\n",
        "#also pass batch size\n",
        "# and pass epoch (repeating previous spteps this many times)\n",
        "classifier.fit(X_train, Y_train, batch_size=10, nb_epoch=100)"
      ],
      "execution_count": 21,
      "outputs": [
        {
          "output_type": "stream",
          "text": [
            "/usr/local/lib/python3.6/dist-packages/ipykernel_launcher.py:4: UserWarning: The `nb_epoch` argument in `fit` has been renamed `epochs`.\n",
            "  after removing the cwd from sys.path.\n"
          ],
          "name": "stderr"
        },
        {
          "output_type": "stream",
          "text": [
            "Epoch 1/100\n",
            "8000/8000 [==============================] - 4s 506us/step - loss: 0.4838 - accuracy: 0.7955\n",
            "Epoch 2/100\n",
            "8000/8000 [==============================] - 2s 292us/step - loss: 0.4278 - accuracy: 0.7960\n",
            "Epoch 3/100\n",
            "8000/8000 [==============================] - 2s 288us/step - loss: 0.4226 - accuracy: 0.7960\n",
            "Epoch 4/100\n",
            "8000/8000 [==============================] - 2s 287us/step - loss: 0.4187 - accuracy: 0.8176\n",
            "Epoch 5/100\n",
            "8000/8000 [==============================] - 2s 273us/step - loss: 0.4166 - accuracy: 0.8249\n",
            "Epoch 6/100\n",
            "8000/8000 [==============================] - 2s 269us/step - loss: 0.4149 - accuracy: 0.8285\n",
            "Epoch 7/100\n",
            "8000/8000 [==============================] - 2s 269us/step - loss: 0.4136 - accuracy: 0.8299\n",
            "Epoch 8/100\n",
            "8000/8000 [==============================] - 2s 270us/step - loss: 0.4121 - accuracy: 0.8322\n",
            "Epoch 9/100\n",
            "8000/8000 [==============================] - 2s 270us/step - loss: 0.4112 - accuracy: 0.8309\n",
            "Epoch 10/100\n",
            "8000/8000 [==============================] - 2s 274us/step - loss: 0.4099 - accuracy: 0.8329\n",
            "Epoch 11/100\n",
            "8000/8000 [==============================] - 2s 270us/step - loss: 0.4092 - accuracy: 0.8332\n",
            "Epoch 12/100\n",
            "8000/8000 [==============================] - 2s 273us/step - loss: 0.4085 - accuracy: 0.8345\n",
            "Epoch 13/100\n",
            "8000/8000 [==============================] - 2s 270us/step - loss: 0.4073 - accuracy: 0.8340\n",
            "Epoch 14/100\n",
            "8000/8000 [==============================] - 2s 275us/step - loss: 0.4068 - accuracy: 0.8331\n",
            "Epoch 15/100\n",
            "8000/8000 [==============================] - 2s 274us/step - loss: 0.4062 - accuracy: 0.8334\n",
            "Epoch 16/100\n",
            "8000/8000 [==============================] - 2s 272us/step - loss: 0.4056 - accuracy: 0.8354\n",
            "Epoch 17/100\n",
            "8000/8000 [==============================] - 2s 270us/step - loss: 0.4059 - accuracy: 0.8340\n",
            "Epoch 18/100\n",
            "8000/8000 [==============================] - 2s 269us/step - loss: 0.4053 - accuracy: 0.8345\n",
            "Epoch 19/100\n",
            "8000/8000 [==============================] - 2s 274us/step - loss: 0.4049 - accuracy: 0.8354\n",
            "Epoch 20/100\n",
            "8000/8000 [==============================] - 2s 268us/step - loss: 0.4043 - accuracy: 0.8324\n",
            "Epoch 21/100\n",
            "8000/8000 [==============================] - 2s 269us/step - loss: 0.4040 - accuracy: 0.8341\n",
            "Epoch 22/100\n",
            "8000/8000 [==============================] - 2s 269us/step - loss: 0.4035 - accuracy: 0.8346\n",
            "Epoch 23/100\n",
            "8000/8000 [==============================] - 2s 270us/step - loss: 0.4038 - accuracy: 0.8341\n",
            "Epoch 24/100\n",
            "8000/8000 [==============================] - 2s 269us/step - loss: 0.4028 - accuracy: 0.8340\n",
            "Epoch 25/100\n",
            "8000/8000 [==============================] - 2s 265us/step - loss: 0.4029 - accuracy: 0.8354\n",
            "Epoch 26/100\n",
            "8000/8000 [==============================] - 2s 269us/step - loss: 0.4034 - accuracy: 0.8351\n",
            "Epoch 27/100\n",
            "8000/8000 [==============================] - 2s 266us/step - loss: 0.4031 - accuracy: 0.8342\n",
            "Epoch 28/100\n",
            "8000/8000 [==============================] - 2s 268us/step - loss: 0.4026 - accuracy: 0.8331\n",
            "Epoch 29/100\n",
            "8000/8000 [==============================] - 2s 272us/step - loss: 0.4023 - accuracy: 0.8341\n",
            "Epoch 30/100\n",
            "8000/8000 [==============================] - 2s 271us/step - loss: 0.4024 - accuracy: 0.8346\n",
            "Epoch 31/100\n",
            "8000/8000 [==============================] - 2s 281us/step - loss: 0.4018 - accuracy: 0.8339\n",
            "Epoch 32/100\n",
            "8000/8000 [==============================] - 2s 278us/step - loss: 0.4023 - accuracy: 0.8338\n",
            "Epoch 33/100\n",
            "8000/8000 [==============================] - 2s 271us/step - loss: 0.4022 - accuracy: 0.8355\n",
            "Epoch 34/100\n",
            "8000/8000 [==============================] - 2s 274us/step - loss: 0.4019 - accuracy: 0.8344\n",
            "Epoch 35/100\n",
            "8000/8000 [==============================] - 2s 270us/step - loss: 0.4021 - accuracy: 0.8344\n",
            "Epoch 36/100\n",
            "8000/8000 [==============================] - 2s 272us/step - loss: 0.4015 - accuracy: 0.8341\n",
            "Epoch 37/100\n",
            "8000/8000 [==============================] - 2s 267us/step - loss: 0.4021 - accuracy: 0.8353\n",
            "Epoch 38/100\n",
            "8000/8000 [==============================] - 2s 266us/step - loss: 0.4020 - accuracy: 0.8336\n",
            "Epoch 39/100\n",
            "8000/8000 [==============================] - 2s 269us/step - loss: 0.4017 - accuracy: 0.8334\n",
            "Epoch 40/100\n",
            "8000/8000 [==============================] - 2s 268us/step - loss: 0.4016 - accuracy: 0.8356\n",
            "Epoch 41/100\n",
            "8000/8000 [==============================] - 2s 272us/step - loss: 0.4012 - accuracy: 0.8340\n",
            "Epoch 42/100\n",
            "8000/8000 [==============================] - 2s 267us/step - loss: 0.4014 - accuracy: 0.8355\n",
            "Epoch 43/100\n",
            "8000/8000 [==============================] - 2s 269us/step - loss: 0.4016 - accuracy: 0.8330\n",
            "Epoch 44/100\n",
            "8000/8000 [==============================] - 2s 271us/step - loss: 0.4013 - accuracy: 0.8338\n",
            "Epoch 45/100\n",
            "8000/8000 [==============================] - 2s 272us/step - loss: 0.4012 - accuracy: 0.8338\n",
            "Epoch 46/100\n",
            "8000/8000 [==============================] - 2s 269us/step - loss: 0.4013 - accuracy: 0.8347\n",
            "Epoch 47/100\n",
            "8000/8000 [==============================] - 2s 269us/step - loss: 0.4012 - accuracy: 0.8349\n",
            "Epoch 48/100\n",
            "8000/8000 [==============================] - 2s 268us/step - loss: 0.4009 - accuracy: 0.8338\n",
            "Epoch 49/100\n",
            "8000/8000 [==============================] - 2s 271us/step - loss: 0.4012 - accuracy: 0.8339\n",
            "Epoch 50/100\n",
            "8000/8000 [==============================] - 2s 272us/step - loss: 0.4009 - accuracy: 0.8341\n",
            "Epoch 51/100\n",
            "8000/8000 [==============================] - 2s 268us/step - loss: 0.4009 - accuracy: 0.8350\n",
            "Epoch 52/100\n",
            "8000/8000 [==============================] - 2s 269us/step - loss: 0.4008 - accuracy: 0.8340\n",
            "Epoch 53/100\n",
            "8000/8000 [==============================] - 2s 272us/step - loss: 0.4009 - accuracy: 0.8339\n",
            "Epoch 54/100\n",
            "8000/8000 [==============================] - 2s 267us/step - loss: 0.4011 - accuracy: 0.8359\n",
            "Epoch 55/100\n",
            "8000/8000 [==============================] - 2s 270us/step - loss: 0.4004 - accuracy: 0.8345\n",
            "Epoch 56/100\n",
            "8000/8000 [==============================] - 2s 268us/step - loss: 0.4008 - accuracy: 0.8340\n",
            "Epoch 57/100\n",
            "8000/8000 [==============================] - 2s 269us/step - loss: 0.3999 - accuracy: 0.8351\n",
            "Epoch 58/100\n",
            "8000/8000 [==============================] - 2s 269us/step - loss: 0.4006 - accuracy: 0.8345\n",
            "Epoch 59/100\n",
            "8000/8000 [==============================] - 2s 265us/step - loss: 0.4007 - accuracy: 0.8346\n",
            "Epoch 60/100\n",
            "8000/8000 [==============================] - 2s 270us/step - loss: 0.4004 - accuracy: 0.8342\n",
            "Epoch 61/100\n",
            "8000/8000 [==============================] - 2s 266us/step - loss: 0.4004 - accuracy: 0.8355\n",
            "Epoch 62/100\n",
            "8000/8000 [==============================] - 2s 269us/step - loss: 0.4003 - accuracy: 0.8357\n",
            "Epoch 63/100\n",
            "8000/8000 [==============================] - 2s 271us/step - loss: 0.4006 - accuracy: 0.8342\n",
            "Epoch 64/100\n",
            "8000/8000 [==============================] - 2s 268us/step - loss: 0.4002 - accuracy: 0.8339\n",
            "Epoch 65/100\n",
            "8000/8000 [==============================] - 2s 267us/step - loss: 0.3998 - accuracy: 0.8356\n",
            "Epoch 66/100\n",
            "8000/8000 [==============================] - 2s 269us/step - loss: 0.3999 - accuracy: 0.8344\n",
            "Epoch 67/100\n",
            "8000/8000 [==============================] - 2s 267us/step - loss: 0.4002 - accuracy: 0.8347\n",
            "Epoch 68/100\n",
            "8000/8000 [==============================] - 2s 269us/step - loss: 0.4000 - accuracy: 0.8353\n",
            "Epoch 69/100\n",
            "8000/8000 [==============================] - 2s 269us/step - loss: 0.3998 - accuracy: 0.8361\n",
            "Epoch 70/100\n",
            "8000/8000 [==============================] - 2s 274us/step - loss: 0.3998 - accuracy: 0.8344\n",
            "Epoch 71/100\n",
            "8000/8000 [==============================] - 2s 268us/step - loss: 0.4000 - accuracy: 0.8356\n",
            "Epoch 72/100\n",
            "8000/8000 [==============================] - 2s 270us/step - loss: 0.4002 - accuracy: 0.8356\n",
            "Epoch 73/100\n",
            "8000/8000 [==============================] - 2s 268us/step - loss: 0.3997 - accuracy: 0.8346\n",
            "Epoch 74/100\n",
            "8000/8000 [==============================] - 2s 271us/step - loss: 0.3998 - accuracy: 0.8345\n",
            "Epoch 75/100\n",
            "8000/8000 [==============================] - 2s 267us/step - loss: 0.3997 - accuracy: 0.8372\n",
            "Epoch 76/100\n",
            "8000/8000 [==============================] - 2s 269us/step - loss: 0.3999 - accuracy: 0.8336\n",
            "Epoch 77/100\n",
            "8000/8000 [==============================] - 2s 266us/step - loss: 0.3992 - accuracy: 0.8360\n",
            "Epoch 78/100\n",
            "8000/8000 [==============================] - 2s 273us/step - loss: 0.3998 - accuracy: 0.8341\n",
            "Epoch 79/100\n",
            "8000/8000 [==============================] - 2s 269us/step - loss: 0.3999 - accuracy: 0.8350\n",
            "Epoch 80/100\n",
            "8000/8000 [==============================] - 2s 272us/step - loss: 0.3995 - accuracy: 0.8347\n",
            "Epoch 81/100\n",
            "8000/8000 [==============================] - 2s 268us/step - loss: 0.3999 - accuracy: 0.8361\n",
            "Epoch 82/100\n",
            "8000/8000 [==============================] - 2s 266us/step - loss: 0.4000 - accuracy: 0.8344\n",
            "Epoch 83/100\n",
            "8000/8000 [==============================] - 2s 273us/step - loss: 0.3997 - accuracy: 0.8344\n",
            "Epoch 84/100\n",
            "8000/8000 [==============================] - 2s 269us/step - loss: 0.3993 - accuracy: 0.8353\n",
            "Epoch 85/100\n",
            "8000/8000 [==============================] - 2s 272us/step - loss: 0.3997 - accuracy: 0.8350\n",
            "Epoch 86/100\n",
            "8000/8000 [==============================] - 2s 271us/step - loss: 0.3994 - accuracy: 0.8363\n",
            "Epoch 87/100\n",
            "8000/8000 [==============================] - 2s 272us/step - loss: 0.3992 - accuracy: 0.8341\n",
            "Epoch 88/100\n",
            "8000/8000 [==============================] - 2s 267us/step - loss: 0.3993 - accuracy: 0.8355\n",
            "Epoch 89/100\n",
            "8000/8000 [==============================] - 2s 269us/step - loss: 0.3995 - accuracy: 0.8347\n",
            "Epoch 90/100\n",
            "8000/8000 [==============================] - 2s 267us/step - loss: 0.3991 - accuracy: 0.8354\n",
            "Epoch 91/100\n",
            "8000/8000 [==============================] - 2s 265us/step - loss: 0.3993 - accuracy: 0.8354\n",
            "Epoch 92/100\n",
            "8000/8000 [==============================] - 2s 269us/step - loss: 0.3991 - accuracy: 0.8355\n",
            "Epoch 93/100\n",
            "8000/8000 [==============================] - 2s 268us/step - loss: 0.3994 - accuracy: 0.8355\n",
            "Epoch 94/100\n",
            "8000/8000 [==============================] - 2s 267us/step - loss: 0.3989 - accuracy: 0.8355\n",
            "Epoch 95/100\n",
            "8000/8000 [==============================] - 2s 265us/step - loss: 0.3995 - accuracy: 0.8353\n",
            "Epoch 96/100\n",
            "8000/8000 [==============================] - 2s 270us/step - loss: 0.3993 - accuracy: 0.8356\n",
            "Epoch 97/100\n",
            "8000/8000 [==============================] - 2s 270us/step - loss: 0.3993 - accuracy: 0.8361\n",
            "Epoch 98/100\n",
            "8000/8000 [==============================] - 2s 265us/step - loss: 0.3989 - accuracy: 0.8354\n",
            "Epoch 99/100\n",
            "8000/8000 [==============================] - 2s 266us/step - loss: 0.3988 - accuracy: 0.8365\n",
            "Epoch 100/100\n",
            "8000/8000 [==============================] - 2s 269us/step - loss: 0.3989 - accuracy: 0.8363\n"
          ],
          "name": "stdout"
        },
        {
          "output_type": "execute_result",
          "data": {
            "text/plain": [
              "<keras.callbacks.callbacks.History at 0x7fc623c5dac8>"
            ]
          },
          "metadata": {
            "tags": []
          },
          "execution_count": 21
        }
      ]
    },
    {
      "cell_type": "code",
      "metadata": {
        "id": "swo2Wc2yFWg_",
        "colab_type": "code",
        "colab": {
          "base_uri": "https://localhost:8080/",
          "height": 136
        },
        "outputId": "576bece5-e6f2-4a66-9919-0e2055efd6e4"
      },
      "source": [
        "# predicting in test set\n",
        "Y_pred=classifier.predict(X_test)\n",
        "Y_pred"
      ],
      "execution_count": 22,
      "outputs": [
        {
          "output_type": "execute_result",
          "data": {
            "text/plain": [
              "array([[0.23839454],\n",
              "       [0.3323294 ],\n",
              "       [0.10585386],\n",
              "       ...,\n",
              "       [0.18298544],\n",
              "       [0.13100782],\n",
              "       [0.1398023 ]], dtype=float32)"
            ]
          },
          "metadata": {
            "tags": []
          },
          "execution_count": 22
        }
      ]
    },
    {
      "cell_type": "code",
      "metadata": {
        "id": "TiCLO5GAGwCX",
        "colab_type": "code",
        "colab": {}
      },
      "source": [
        "#All greater than 0.5 is true less than 0.5 is false\n",
        "Y_pred=(Y_pred>0.5)"
      ],
      "execution_count": 23,
      "outputs": []
    },
    {
      "cell_type": "code",
      "metadata": {
        "id": "I-MCAqbgK8ow",
        "colab_type": "code",
        "colab": {
          "base_uri": "https://localhost:8080/",
          "height": 51
        },
        "outputId": "7f275a42-ec86-4712-a35e-adf50901d0f5"
      },
      "source": [
        "#  creating confusion matrix\n",
        "from sklearn.metrics import confusion_matrix\n",
        "cm=confusion_matrix(Y_test, Y_pred)\n",
        "cm"
      ],
      "execution_count": 24,
      "outputs": [
        {
          "output_type": "execute_result",
          "data": {
            "text/plain": [
              "array([[1544,   51],\n",
              "       [ 266,  139]])"
            ]
          },
          "metadata": {
            "tags": []
          },
          "execution_count": 24
        }
      ]
    },
    {
      "cell_type": "code",
      "metadata": {
        "id": "ebt_3WrfLnGt",
        "colab_type": "code",
        "colab": {
          "base_uri": "https://localhost:8080/",
          "height": 34
        },
        "outputId": "d332edeb-70dd-47c7-e6e1-896a1e63bf4d"
      },
      "source": [
        "# new prediction\n",
        "#in horizontal matrix (using double [[]]) - creating 2d array\n",
        "new_prediction=classifier.predict(sc.transform(np.array([[0.0, 0, 600, 1, 40, 3, 60000, 2, 1, 1, 50000]])))\n",
        "new_prediction=(new_prediction>0.5)\n",
        "new_prediction"
      ],
      "execution_count": 25,
      "outputs": [
        {
          "output_type": "execute_result",
          "data": {
            "text/plain": [
              "array([[False]])"
            ]
          },
          "metadata": {
            "tags": []
          },
          "execution_count": 25
        }
      ]
    }
  ]
}