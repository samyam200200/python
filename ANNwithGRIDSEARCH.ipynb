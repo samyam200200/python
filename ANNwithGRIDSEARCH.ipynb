{
  "nbformat": 4,
  "nbformat_minor": 0,
  "metadata": {
    "colab": {
      "name": "Untitled0.ipynb",
      "provenance": [],
      "authorship_tag": "ABX9TyOG1+tNjdwCFz1fW0mn+5k5",
      "include_colab_link": true
    },
    "kernelspec": {
      "name": "python3",
      "display_name": "Python 3"
    },
    "accelerator": "GPU"
  },
  "cells": [
    {
      "cell_type": "markdown",
      "metadata": {
        "id": "view-in-github",
        "colab_type": "text"
      },
      "source": [
        "<a href=\"https://colab.research.google.com/github/samyam200200/python/blob/master/ANNwithGRIDSEARCH.ipynb\" target=\"_parent\"><img src=\"https://colab.research.google.com/assets/colab-badge.svg\" alt=\"Open In Colab\"/></a>"
      ]
    },
    {
      "cell_type": "code",
      "metadata": {
        "id": "io_bvVob7MTa",
        "colab_type": "code",
        "colab": {}
      },
      "source": [
        "import numpy as np\n",
        "import matplotlib.pyplot as plt\n",
        "import pandas as pd"
      ],
      "execution_count": 63,
      "outputs": []
    },
    {
      "cell_type": "code",
      "metadata": {
        "id": "5NUTW78f7uT8",
        "colab_type": "code",
        "colab": {}
      },
      "source": [
        "#import\n",
        "dataset=pd.read_csv(\"Churn_Modelling.csv\")\n",
        "X=dataset.iloc[:,3:13].values\n",
        "Y=dataset.iloc[:,13].values"
      ],
      "execution_count": 64,
      "outputs": []
    },
    {
      "cell_type": "code",
      "metadata": {
        "id": "h1nfWozbRmAa",
        "colab_type": "code",
        "colab": {}
      },
      "source": [
        "#one hot encoding variables\n",
        "from sklearn.preprocessing import LabelEncoder, OneHotEncoder\n",
        "from sklearn.compose import ColumnTransformer\n",
        "# Country column\n",
        "ct = ColumnTransformer([(\"Geo\", OneHotEncoder(), [1])], remainder = 'passthrough')\n",
        "X = ct.fit_transform(X)\n",
        "\n",
        "# Male/Female\n",
        "labelencoder_X = LabelEncoder()\n",
        "X[:, 4] = labelencoder_X.fit_transform(X[:, 4])\n",
        "X = X.astype('float64')"
      ],
      "execution_count": 65,
      "outputs": []
    },
    {
      "cell_type": "code",
      "metadata": {
        "id": "HeE0PaI3RthR",
        "colab_type": "code",
        "colab": {}
      },
      "source": [
        "#removing 1 dummy varibale ie 0 \n",
        "X=X[:,1:]"
      ],
      "execution_count": 66,
      "outputs": []
    },
    {
      "cell_type": "code",
      "metadata": {
        "id": "uGlK9vA9R5PA",
        "colab_type": "code",
        "colab": {}
      },
      "source": [
        "#Splitting data\n",
        "from sklearn.model_selection import train_test_split\n",
        "X_train, X_test, Y_train, Y_test=train_test_split(X, Y, test_size=0.20, random_state=42)"
      ],
      "execution_count": 67,
      "outputs": []
    },
    {
      "cell_type": "code",
      "metadata": {
        "id": "TtS0fTvLSAxR",
        "colab_type": "code",
        "colab": {}
      },
      "source": [
        "#Feature Scaling\n",
        "from sklearn.preprocessing import StandardScaler\n",
        "sc=StandardScaler()\n",
        "X_train=sc.fit_transform(X_train)\n",
        "X_test=sc.transform(X_test)"
      ],
      "execution_count": 68,
      "outputs": []
    },
    {
      "cell_type": "code",
      "metadata": {
        "id": "DzeD0gIGSGZ4",
        "colab_type": "code",
        "colab": {}
      },
      "source": [
        "#Making ANN\n",
        "# Importing Keras\n",
        "import keras"
      ],
      "execution_count": 69,
      "outputs": []
    },
    {
      "cell_type": "code",
      "metadata": {
        "id": "XhKxIwo2U23d",
        "colab_type": "code",
        "colab": {}
      },
      "source": [
        "from keras.models import Sequential\n",
        "from keras.layers import Dense\n",
        "from keras.layers import Dropout"
      ],
      "execution_count": 70,
      "outputs": []
    },
    {
      "cell_type": "code",
      "metadata": {
        "id": "SIT-CvkoWl3e",
        "colab_type": "code",
        "colab": {}
      },
      "source": [
        "#Initalizing ANN\n",
        "classifier=Sequential()"
      ],
      "execution_count": 71,
      "outputs": []
    },
    {
      "cell_type": "code",
      "metadata": {
        "id": "pPtCNVtiW8U1",
        "colab_type": "code",
        "colab": {
          "base_uri": "https://localhost:8080/",
          "height": 51
        },
        "outputId": "adfc9f55-7601-4c91-c0af-ea735c04d6b0"
      },
      "source": [
        "# Adding first layer -  input layera and first hidden layer (secondly with dropout)\n",
        "# units = output_dim (i.e. number of hidden layers equal to inputlayers(11)+outputlayers(1)/2)\n",
        "# init=kernel_initializer (initial weights)\n",
        "# input_dim (input layers)\n",
        "# p - fraction of neuron to drop in each iteration (start with p = 0.1, then still overfitting increase p eventually. do not go over 0.5)\n",
        "classifier.add(Dense(units=6, kernel_initializer=\"uniform\", activation=\"relu\", input_dim=11))\n",
        "classifier.add(Dropout(p=0.1))"
      ],
      "execution_count": 72,
      "outputs": [
        {
          "output_type": "stream",
          "text": [
            "/usr/local/lib/python3.6/dist-packages/ipykernel_launcher.py:7: UserWarning: Update your `Dropout` call to the Keras 2 API: `Dropout(rate=0.1)`\n",
            "  import sys\n"
          ],
          "name": "stderr"
        }
      ]
    },
    {
      "cell_type": "code",
      "metadata": {
        "id": "R88a9kLrZ5un",
        "colab_type": "code",
        "colab": {
          "base_uri": "https://localhost:8080/",
          "height": 51
        },
        "outputId": "1f14cb88-daf0-41fd-b503-43acaa4d302c"
      },
      "source": [
        "#adding new layer\n",
        "#this is added to previous neural network, its not needed to add input layer\n",
        "classifier.add(Dense(units=6, kernel_initializer=\"uniform\", activation=\"relu\"))\n",
        "classifier.add(Dropout(p=0.1))"
      ],
      "execution_count": 73,
      "outputs": [
        {
          "output_type": "stream",
          "text": [
            "/usr/local/lib/python3.6/dist-packages/ipykernel_launcher.py:4: UserWarning: Update your `Dropout` call to the Keras 2 API: `Dropout(rate=0.1)`\n",
            "  after removing the cwd from sys.path.\n"
          ],
          "name": "stderr"
        }
      ]
    },
    {
      "cell_type": "code",
      "metadata": {
        "id": "2QPRfbyVagXN",
        "colab_type": "code",
        "colab": {}
      },
      "source": [
        "#output layer\n",
        "#softmax for more than one output\n",
        "classifier.add(Dense(units=1, kernel_initializer=\"uniform\", activation=\"sigmoid\"))"
      ],
      "execution_count": 74,
      "outputs": []
    },
    {
      "cell_type": "code",
      "metadata": {
        "id": "D5CjC0_cbBgQ",
        "colab_type": "code",
        "colab": {}
      },
      "source": [
        "#Compiling ANN\n",
        "#adam is for stochastic gradient descent\n",
        "#loss function is for the weights, here for logistic regression we will use lograthmic loss\n",
        "#more than 2 varibale categorical_crossentropy\n",
        "#what is used to improve the goodness of model\n",
        "classifier.compile(optimizer=\"adam\", loss=\"binary_crossentropy\", metrics=['accuracy'])"
      ],
      "execution_count": 75,
      "outputs": []
    },
    {
      "cell_type": "code",
      "metadata": {
        "id": "tZzEzNIycY_m",
        "colab_type": "code",
        "colab": {
          "base_uri": "https://localhost:8080/",
          "height": 1000
        },
        "outputId": "f3539f6e-89d0-4a46-a7e0-5bc99bac715c"
      },
      "source": [
        "# fitting ANN into the dataset\n",
        "#also pass batch size\n",
        "# and pass epoch (repeating previous spteps this many times)\n",
        "c=classifier.fit(X_train, Y_train, batch_size=10, nb_epoch=100)\n",
        "c"
      ],
      "execution_count": 76,
      "outputs": [
        {
          "output_type": "stream",
          "text": [
            "/usr/local/lib/python3.6/dist-packages/ipykernel_launcher.py:4: UserWarning: The `nb_epoch` argument in `fit` has been renamed `epochs`.\n",
            "  after removing the cwd from sys.path.\n"
          ],
          "name": "stderr"
        },
        {
          "output_type": "stream",
          "text": [
            "Epoch 1/100\n",
            "8000/8000 [==============================] - 2s 305us/step - loss: 0.5008 - accuracy: 0.7939\n",
            "Epoch 2/100\n",
            "8000/8000 [==============================] - 2s 290us/step - loss: 0.4402 - accuracy: 0.7945\n",
            "Epoch 3/100\n",
            "8000/8000 [==============================] - 2s 290us/step - loss: 0.4379 - accuracy: 0.7945\n",
            "Epoch 4/100\n",
            "8000/8000 [==============================] - 2s 290us/step - loss: 0.4305 - accuracy: 0.7945\n",
            "Epoch 5/100\n",
            "8000/8000 [==============================] - 2s 284us/step - loss: 0.4298 - accuracy: 0.7945\n",
            "Epoch 6/100\n",
            "8000/8000 [==============================] - 2s 288us/step - loss: 0.4294 - accuracy: 0.8094\n",
            "Epoch 7/100\n",
            "8000/8000 [==============================] - 2s 289us/step - loss: 0.4293 - accuracy: 0.8234\n",
            "Epoch 8/100\n",
            "8000/8000 [==============================] - 2s 286us/step - loss: 0.4313 - accuracy: 0.8259\n",
            "Epoch 9/100\n",
            "8000/8000 [==============================] - 2s 284us/step - loss: 0.4286 - accuracy: 0.8267\n",
            "Epoch 10/100\n",
            "8000/8000 [==============================] - 2s 286us/step - loss: 0.4265 - accuracy: 0.8300\n",
            "Epoch 11/100\n",
            "8000/8000 [==============================] - 2s 282us/step - loss: 0.4287 - accuracy: 0.8314\n",
            "Epoch 12/100\n",
            "8000/8000 [==============================] - 2s 286us/step - loss: 0.4280 - accuracy: 0.8311\n",
            "Epoch 13/100\n",
            "8000/8000 [==============================] - 2s 286us/step - loss: 0.4265 - accuracy: 0.8301\n",
            "Epoch 14/100\n",
            "8000/8000 [==============================] - 2s 283us/step - loss: 0.4297 - accuracy: 0.8305\n",
            "Epoch 15/100\n",
            "8000/8000 [==============================] - 2s 282us/step - loss: 0.4274 - accuracy: 0.8299\n",
            "Epoch 16/100\n",
            "8000/8000 [==============================] - 2s 286us/step - loss: 0.4279 - accuracy: 0.8304\n",
            "Epoch 17/100\n",
            "8000/8000 [==============================] - 2s 282us/step - loss: 0.4282 - accuracy: 0.8298\n",
            "Epoch 18/100\n",
            "8000/8000 [==============================] - 2s 287us/step - loss: 0.4301 - accuracy: 0.8311\n",
            "Epoch 19/100\n",
            "8000/8000 [==============================] - 2s 284us/step - loss: 0.4292 - accuracy: 0.8291\n",
            "Epoch 20/100\n",
            "8000/8000 [==============================] - 2s 282us/step - loss: 0.4230 - accuracy: 0.8300\n",
            "Epoch 21/100\n",
            "8000/8000 [==============================] - 2s 288us/step - loss: 0.4215 - accuracy: 0.8309\n",
            "Epoch 22/100\n",
            "8000/8000 [==============================] - 2s 285us/step - loss: 0.4254 - accuracy: 0.8317\n",
            "Epoch 23/100\n",
            "8000/8000 [==============================] - 2s 286us/step - loss: 0.4240 - accuracy: 0.8317\n",
            "Epoch 24/100\n",
            "8000/8000 [==============================] - 2s 281us/step - loss: 0.4236 - accuracy: 0.8319\n",
            "Epoch 25/100\n",
            "8000/8000 [==============================] - 2s 283us/step - loss: 0.4224 - accuracy: 0.8313\n",
            "Epoch 26/100\n",
            "8000/8000 [==============================] - 2s 284us/step - loss: 0.4239 - accuracy: 0.8325\n",
            "Epoch 27/100\n",
            "8000/8000 [==============================] - 2s 285us/step - loss: 0.4268 - accuracy: 0.8319\n",
            "Epoch 28/100\n",
            "8000/8000 [==============================] - 2s 282us/step - loss: 0.4267 - accuracy: 0.8326\n",
            "Epoch 29/100\n",
            "8000/8000 [==============================] - 2s 286us/step - loss: 0.4227 - accuracy: 0.8324\n",
            "Epoch 30/100\n",
            "8000/8000 [==============================] - 2s 288us/step - loss: 0.4235 - accuracy: 0.8310\n",
            "Epoch 31/100\n",
            "8000/8000 [==============================] - 2s 290us/step - loss: 0.4240 - accuracy: 0.8305\n",
            "Epoch 32/100\n",
            "8000/8000 [==============================] - 2s 287us/step - loss: 0.4257 - accuracy: 0.8320\n",
            "Epoch 33/100\n",
            "8000/8000 [==============================] - 2s 286us/step - loss: 0.4237 - accuracy: 0.8321\n",
            "Epoch 34/100\n",
            "8000/8000 [==============================] - 2s 288us/step - loss: 0.4267 - accuracy: 0.8317\n",
            "Epoch 35/100\n",
            "8000/8000 [==============================] - 2s 293us/step - loss: 0.4254 - accuracy: 0.8310\n",
            "Epoch 36/100\n",
            "8000/8000 [==============================] - 2s 288us/step - loss: 0.4247 - accuracy: 0.8305\n",
            "Epoch 37/100\n",
            "8000/8000 [==============================] - 2s 289us/step - loss: 0.4236 - accuracy: 0.8319\n",
            "Epoch 38/100\n",
            "8000/8000 [==============================] - 2s 287us/step - loss: 0.4264 - accuracy: 0.8307\n",
            "Epoch 39/100\n",
            "8000/8000 [==============================] - 2s 286us/step - loss: 0.4239 - accuracy: 0.8314\n",
            "Epoch 40/100\n",
            "8000/8000 [==============================] - 2s 290us/step - loss: 0.4241 - accuracy: 0.8325\n",
            "Epoch 41/100\n",
            "8000/8000 [==============================] - 2s 282us/step - loss: 0.4275 - accuracy: 0.8294\n",
            "Epoch 42/100\n",
            "8000/8000 [==============================] - 2s 302us/step - loss: 0.4259 - accuracy: 0.8336\n",
            "Epoch 43/100\n",
            "8000/8000 [==============================] - 2s 301us/step - loss: 0.4224 - accuracy: 0.8330\n",
            "Epoch 44/100\n",
            "8000/8000 [==============================] - 2s 298us/step - loss: 0.4250 - accuracy: 0.8334\n",
            "Epoch 45/100\n",
            "8000/8000 [==============================] - 2s 303us/step - loss: 0.4257 - accuracy: 0.8317\n",
            "Epoch 46/100\n",
            "8000/8000 [==============================] - 2s 298us/step - loss: 0.4249 - accuracy: 0.8334\n",
            "Epoch 47/100\n",
            "8000/8000 [==============================] - 2s 284us/step - loss: 0.4251 - accuracy: 0.8330\n",
            "Epoch 48/100\n",
            "8000/8000 [==============================] - 2s 282us/step - loss: 0.4226 - accuracy: 0.8315\n",
            "Epoch 49/100\n",
            "8000/8000 [==============================] - 2s 284us/step - loss: 0.4241 - accuracy: 0.8329\n",
            "Epoch 50/100\n",
            "8000/8000 [==============================] - 2s 282us/step - loss: 0.4218 - accuracy: 0.8322\n",
            "Epoch 51/100\n",
            "8000/8000 [==============================] - 2s 282us/step - loss: 0.4256 - accuracy: 0.8334\n",
            "Epoch 52/100\n",
            "8000/8000 [==============================] - 2s 282us/step - loss: 0.4259 - accuracy: 0.8324\n",
            "Epoch 53/100\n",
            "8000/8000 [==============================] - 2s 283us/step - loss: 0.4275 - accuracy: 0.8321\n",
            "Epoch 54/100\n",
            "8000/8000 [==============================] - 2s 285us/step - loss: 0.4218 - accuracy: 0.8315\n",
            "Epoch 55/100\n",
            "8000/8000 [==============================] - 2s 281us/step - loss: 0.4278 - accuracy: 0.8303\n",
            "Epoch 56/100\n",
            "8000/8000 [==============================] - 2s 284us/step - loss: 0.4209 - accuracy: 0.8345\n",
            "Epoch 57/100\n",
            "8000/8000 [==============================] - 2s 280us/step - loss: 0.4245 - accuracy: 0.8325\n",
            "Epoch 58/100\n",
            "8000/8000 [==============================] - 2s 283us/step - loss: 0.4241 - accuracy: 0.8326\n",
            "Epoch 59/100\n",
            "8000/8000 [==============================] - 2s 288us/step - loss: 0.4255 - accuracy: 0.8321\n",
            "Epoch 60/100\n",
            "8000/8000 [==============================] - 2s 282us/step - loss: 0.4227 - accuracy: 0.8326\n",
            "Epoch 61/100\n",
            "8000/8000 [==============================] - 2s 282us/step - loss: 0.4214 - accuracy: 0.8306\n",
            "Epoch 62/100\n",
            "8000/8000 [==============================] - 2s 283us/step - loss: 0.4249 - accuracy: 0.8332\n",
            "Epoch 63/100\n",
            "8000/8000 [==============================] - 2s 283us/step - loss: 0.4246 - accuracy: 0.8329\n",
            "Epoch 64/100\n",
            "8000/8000 [==============================] - 2s 283us/step - loss: 0.4242 - accuracy: 0.8321\n",
            "Epoch 65/100\n",
            "8000/8000 [==============================] - 2s 284us/step - loss: 0.4228 - accuracy: 0.8316\n",
            "Epoch 66/100\n",
            "8000/8000 [==============================] - 2s 284us/step - loss: 0.4238 - accuracy: 0.8316\n",
            "Epoch 67/100\n",
            "8000/8000 [==============================] - 2s 279us/step - loss: 0.4264 - accuracy: 0.8331\n",
            "Epoch 68/100\n",
            "8000/8000 [==============================] - 2s 284us/step - loss: 0.4225 - accuracy: 0.8329\n",
            "Epoch 69/100\n",
            "8000/8000 [==============================] - 2s 283us/step - loss: 0.4239 - accuracy: 0.8315\n",
            "Epoch 70/100\n",
            "8000/8000 [==============================] - 2s 285us/step - loss: 0.4263 - accuracy: 0.8316\n",
            "Epoch 71/100\n",
            "8000/8000 [==============================] - 2s 285us/step - loss: 0.4249 - accuracy: 0.8316\n",
            "Epoch 72/100\n",
            "8000/8000 [==============================] - 2s 282us/step - loss: 0.4255 - accuracy: 0.8317\n",
            "Epoch 73/100\n",
            "8000/8000 [==============================] - 2s 287us/step - loss: 0.4229 - accuracy: 0.8321\n",
            "Epoch 74/100\n",
            "8000/8000 [==============================] - 2s 283us/step - loss: 0.4257 - accuracy: 0.8316\n",
            "Epoch 75/100\n",
            "8000/8000 [==============================] - 2s 285us/step - loss: 0.4263 - accuracy: 0.8309\n",
            "Epoch 76/100\n",
            "8000/8000 [==============================] - 2s 284us/step - loss: 0.4240 - accuracy: 0.8314\n",
            "Epoch 77/100\n",
            "8000/8000 [==============================] - 2s 281us/step - loss: 0.4202 - accuracy: 0.8329\n",
            "Epoch 78/100\n",
            "8000/8000 [==============================] - 2s 287us/step - loss: 0.4246 - accuracy: 0.8332\n",
            "Epoch 79/100\n",
            "8000/8000 [==============================] - 2s 282us/step - loss: 0.4268 - accuracy: 0.8309\n",
            "Epoch 80/100\n",
            "8000/8000 [==============================] - 2s 282us/step - loss: 0.4244 - accuracy: 0.8330\n",
            "Epoch 81/100\n",
            "8000/8000 [==============================] - 2s 281us/step - loss: 0.4251 - accuracy: 0.8319\n",
            "Epoch 82/100\n",
            "8000/8000 [==============================] - 2s 281us/step - loss: 0.4260 - accuracy: 0.8316\n",
            "Epoch 83/100\n",
            "8000/8000 [==============================] - 2s 286us/step - loss: 0.4226 - accuracy: 0.8329\n",
            "Epoch 84/100\n",
            "8000/8000 [==============================] - 2s 283us/step - loss: 0.4241 - accuracy: 0.8334\n",
            "Epoch 85/100\n",
            "8000/8000 [==============================] - 2s 281us/step - loss: 0.4236 - accuracy: 0.8316\n",
            "Epoch 86/100\n",
            "8000/8000 [==============================] - 2s 282us/step - loss: 0.4266 - accuracy: 0.8321\n",
            "Epoch 87/100\n",
            "8000/8000 [==============================] - 2s 288us/step - loss: 0.4267 - accuracy: 0.8342\n",
            "Epoch 88/100\n",
            "8000/8000 [==============================] - 2s 281us/step - loss: 0.4204 - accuracy: 0.8331\n",
            "Epoch 89/100\n",
            "8000/8000 [==============================] - 2s 286us/step - loss: 0.4211 - accuracy: 0.8332\n",
            "Epoch 90/100\n",
            "8000/8000 [==============================] - 2s 283us/step - loss: 0.4232 - accuracy: 0.8319\n",
            "Epoch 91/100\n",
            "8000/8000 [==============================] - 2s 285us/step - loss: 0.4249 - accuracy: 0.8336\n",
            "Epoch 92/100\n",
            "8000/8000 [==============================] - 2s 283us/step - loss: 0.4210 - accuracy: 0.8315\n",
            "Epoch 93/100\n",
            "8000/8000 [==============================] - 2s 285us/step - loss: 0.4192 - accuracy: 0.8319\n",
            "Epoch 94/100\n",
            "8000/8000 [==============================] - 2s 281us/step - loss: 0.4204 - accuracy: 0.8325\n",
            "Epoch 95/100\n",
            "8000/8000 [==============================] - 2s 283us/step - loss: 0.4204 - accuracy: 0.8326\n",
            "Epoch 96/100\n",
            "8000/8000 [==============================] - 2s 281us/step - loss: 0.4248 - accuracy: 0.8324\n",
            "Epoch 97/100\n",
            "8000/8000 [==============================] - 2s 285us/step - loss: 0.4260 - accuracy: 0.8325\n",
            "Epoch 98/100\n",
            "8000/8000 [==============================] - 2s 282us/step - loss: 0.4233 - accuracy: 0.8324\n",
            "Epoch 99/100\n",
            "8000/8000 [==============================] - 2s 283us/step - loss: 0.4258 - accuracy: 0.8334\n",
            "Epoch 100/100\n",
            "8000/8000 [==============================] - 2s 282us/step - loss: 0.4236 - accuracy: 0.8353\n"
          ],
          "name": "stdout"
        },
        {
          "output_type": "execute_result",
          "data": {
            "text/plain": [
              "<keras.callbacks.callbacks.History at 0x7f997049c5f8>"
            ]
          },
          "metadata": {
            "tags": []
          },
          "execution_count": 76
        }
      ]
    },
    {
      "cell_type": "code",
      "metadata": {
        "id": "swo2Wc2yFWg_",
        "colab_type": "code",
        "colab": {
          "base_uri": "https://localhost:8080/",
          "height": 136
        },
        "outputId": "5846a410-f3c3-48ae-f002-172ad49a0d0c"
      },
      "source": [
        "# predicting in test set\n",
        "Y_pred=classifier.predict(X_test)\n",
        "Y_pred"
      ],
      "execution_count": 77,
      "outputs": [
        {
          "output_type": "execute_result",
          "data": {
            "text/plain": [
              "array([[0.13837934],\n",
              "       [0.10131505],\n",
              "       [0.39086366],\n",
              "       ...,\n",
              "       [0.44727564],\n",
              "       [0.04778833],\n",
              "       [0.20792748]], dtype=float32)"
            ]
          },
          "metadata": {
            "tags": []
          },
          "execution_count": 77
        }
      ]
    },
    {
      "cell_type": "code",
      "metadata": {
        "id": "TiCLO5GAGwCX",
        "colab_type": "code",
        "colab": {}
      },
      "source": [
        "#All greater than 0.5 is true less than 0.5 is false\n",
        "Y_pred=(Y_pred>0.5)"
      ],
      "execution_count": 78,
      "outputs": []
    },
    {
      "cell_type": "code",
      "metadata": {
        "id": "I-MCAqbgK8ow",
        "colab_type": "code",
        "colab": {
          "base_uri": "https://localhost:8080/",
          "height": 51
        },
        "outputId": "b853eef4-803f-49c1-8f74-35fcffd81e23"
      },
      "source": [
        "#  creating confusion matrix\n",
        "from sklearn.metrics import confusion_matrix\n",
        "cm=confusion_matrix(Y_test, Y_pred)\n",
        "cm"
      ],
      "execution_count": 79,
      "outputs": [
        {
          "output_type": "execute_result",
          "data": {
            "text/plain": [
              "array([[1560,   47],\n",
              "       [ 277,  116]])"
            ]
          },
          "metadata": {
            "tags": []
          },
          "execution_count": 79
        }
      ]
    },
    {
      "cell_type": "code",
      "metadata": {
        "id": "ebt_3WrfLnGt",
        "colab_type": "code",
        "colab": {
          "base_uri": "https://localhost:8080/",
          "height": 34
        },
        "outputId": "9f32f7f9-bad9-42c1-835f-03ee984e3e17"
      },
      "source": [
        "# new prediction\n",
        "#in horizontal matrix (using double [[]]) - creating 2d array\n",
        "new_prediction=classifier.predict(sc.transform(np.array([[0.0, 0, 600, 1, 40, 3, 60000, 2, 1, 1, 50000]])))\n",
        "new_prediction=(new_prediction>0.5)\n",
        "new_prediction"
      ],
      "execution_count": 80,
      "outputs": [
        {
          "output_type": "execute_result",
          "data": {
            "text/plain": [
              "array([[False]])"
            ]
          },
          "metadata": {
            "tags": []
          },
          "execution_count": 80
        }
      ]
    },
    {
      "cell_type": "code",
      "metadata": {
        "id": "wDG8JdLn1agT",
        "colab_type": "code",
        "colab": {}
      },
      "source": [
        "#K-fold cross validation\n",
        "#Combine keras and scikitlearn - keras wrapper wraps kfold cross validation inside the keras package\n",
        "from keras.wrappers.scikit_learn import KerasClassifier\n",
        "from sklearn.model_selection import cross_val_score\n",
        "from keras.models import Sequential\n",
        "from keras.layers import Dense"
      ],
      "execution_count": 81,
      "outputs": []
    },
    {
      "cell_type": "code",
      "metadata": {
        "id": "JLTjdJgx3QSM",
        "colab_type": "code",
        "colab": {}
      },
      "source": [
        "#use a function for kerasclassifier - a fuction returning and building on ANN architecture\n",
        "#def defines function - builds ANN classifier\n",
        "#only use the part of code that builds the ANN not the last part\n",
        "def build_classifier():\n",
        "  classifier=Sequential()\n",
        "  classifier.add(Dense(units=6, kernel_initializer='uniform', activation='relu', input_dim=11))\n",
        "  classifier.add(Dense(units=6, kernel_initializer='uniform', activation='relu'))\n",
        "  classifier.add(Dense(units=1, kernel_initializer='uniform', activation='sigmoid'))\n",
        "  classifier.compile(optimizer='adam', loss='binary_crossentropy', metrics=['accuracy'])\n",
        "  return classifier\n",
        "#this returns a classifer for local and we need to make a global output using wrapper\n",
        "classifier = KerasClassifier(build_fn =build_classifier, batch_size=10, nb_epoch=100)\n",
        "#new obejct to contain the accuracy of 10 diffrent cross validation scores\n",
        "#n_jobs for number of cpu used -1 is for all CPU\n",
        "accuracies=cross_val_score(estimator = classifier, X = X_train, y=Y_train, cv=10, n_jobs = -1)"
      ],
      "execution_count": 82,
      "outputs": []
    },
    {
      "cell_type": "code",
      "metadata": {
        "id": "kXa03QSF_ldP",
        "colab_type": "code",
        "colab": {
          "base_uri": "https://localhost:8080/",
          "height": 51
        },
        "outputId": "49ef5b29-d567-4596-9f98-f76918843f93"
      },
      "source": [
        "accuracies"
      ],
      "execution_count": 83,
      "outputs": [
        {
          "output_type": "execute_result",
          "data": {
            "text/plain": [
              "array([0.8125    , 0.79250002, 0.78750002, 0.79124999, 0.79124999,\n",
              "       0.82875001, 0.79624999, 0.76875001, 0.79374999, 0.80374998])"
            ]
          },
          "metadata": {
            "tags": []
          },
          "execution_count": 83
        }
      ]
    },
    {
      "cell_type": "code",
      "metadata": {
        "id": "AYWBhH8FOenY",
        "colab_type": "code",
        "colab": {}
      },
      "source": [
        "mean=accuracies.mean()\n",
        "variance=accuracies.std()\n"
      ],
      "execution_count": 84,
      "outputs": []
    },
    {
      "cell_type": "code",
      "metadata": {
        "id": "rDyzGZp5XzHL",
        "colab_type": "code",
        "colab": {}
      },
      "source": [
        "#Improving ANN - dropout regularization\n",
        "#Dropout - used to prevent overfitting\n",
        "#High variance = overfitting\n",
        "#Dropout causes random diabling of the neurons when training when they become too much correlated, \n",
        "#dependent to each other - dropout causes indendent correlation"
      ],
      "execution_count": 85,
      "outputs": []
    },
    {
      "cell_type": "code",
      "metadata": {
        "id": "ekjoFr8DZOM0",
        "colab_type": "code",
        "colab": {
          "base_uri": "https://localhost:8080/",
          "height": 1000
        },
        "outputId": "6b5e1a9b-bd90-4810-f521-41ea0330369f"
      },
      "source": [
        "#Parameter tuning - Number of epoch, batch size, optimizer, number of neurons in the layers\n",
        "# Best value of these parameters using grid search\n",
        "# Use keras classifier - instead of coss_val_score we use grid search\n",
        "from keras.wrappers.scikit_learn import KerasClassifier\n",
        "from sklearn.model_selection import GridSearchCV\n",
        "from keras.models import Sequential\n",
        "from keras.layers import Dense\n",
        "#new arguement created for optimizer and changed inside the function - do accordingly for others\n",
        "def build_classifier(optimizer):\n",
        "  classifier=Sequential()\n",
        "  classifier.add(Dense(units=6, kernel_initializer='uniform', activation='relu', input_dim=11))\n",
        "  classifier.add(Dense(units=6, kernel_initializer='uniform', activation='relu'))\n",
        "  classifier.add(Dense(units=1, kernel_initializer='uniform', activation='sigmoid'))\n",
        "  classifier.compile(optimizer=optimizer, loss='binary_crossentropy', metrics=['accuracy'])\n",
        "  return classifier\n",
        "#this returns a classifer for local and we need to make a global output using wrapper\n",
        "classifier = KerasClassifier(build_fn =build_classifier)\n",
        "#creating grid search \n",
        "#first create dictionary - keys and values - batch size, optimizer, epoch\n",
        "parameters = {'batch_size':[25, 32],\n",
        "              'nb_epoch':[100, 500],\n",
        "              'optimizer':['adam', 'rmsprop']}\n",
        "#creating grid search object from parameters\n",
        "grid_search=GridSearchCV(estimator=classifier,\n",
        "                         param_grid=parameters,\n",
        "                         scoring='accuracy',\n",
        "                         cv=10)\n",
        "#fitting grid search to data\n",
        "grid_search=grid_search.fit(X_train, Y_train)\n",
        "#selacting best parameters\n",
        "best_parameters=grid_search.best_params_\n",
        "best_accuracy=grid_search.best_score_"
      ],
      "execution_count": 86,
      "outputs": [
        {
          "output_type": "stream",
          "text": [
            "Epoch 1/1\n",
            "7200/7200 [==============================] - 1s 118us/step - loss: 0.5685 - accuracy: 0.7931\n",
            "Epoch 1/1\n",
            "7200/7200 [==============================] - 1s 118us/step - loss: 0.5586 - accuracy: 0.7940\n",
            "Epoch 1/1\n",
            "7200/7200 [==============================] - 1s 114us/step - loss: 0.6558 - accuracy: 0.7950\n",
            "Epoch 1/1\n",
            "7200/7200 [==============================] - 1s 113us/step - loss: 0.5541 - accuracy: 0.7950\n",
            "Epoch 1/1\n",
            "7200/7200 [==============================] - 1s 115us/step - loss: 0.5480 - accuracy: 0.7944\n",
            "Epoch 1/1\n",
            "7200/7200 [==============================] - 1s 117us/step - loss: 0.5642 - accuracy: 0.7907\n",
            "Epoch 1/1\n",
            "7200/7200 [==============================] - 1s 125us/step - loss: 0.5619 - accuracy: 0.7943\n",
            "Epoch 1/1\n",
            "7200/7200 [==============================] - 1s 120us/step - loss: 0.5629 - accuracy: 0.7969\n",
            "Epoch 1/1\n",
            "7200/7200 [==============================] - 1s 119us/step - loss: 0.5578 - accuracy: 0.7940\n",
            "Epoch 1/1\n",
            "7200/7200 [==============================] - 1s 121us/step - loss: 0.5513 - accuracy: 0.7933\n",
            "Epoch 1/1\n",
            "7200/7200 [==============================] - 1s 103us/step - loss: 0.6020 - accuracy: 0.7912\n",
            "Epoch 1/1\n",
            "7200/7200 [==============================] - 1s 98us/step - loss: 0.6000 - accuracy: 0.7928\n",
            "Epoch 1/1\n",
            "7200/7200 [==============================] - 1s 96us/step - loss: 0.5838 - accuracy: 0.7967\n",
            "Epoch 1/1\n",
            "7200/7200 [==============================] - 1s 103us/step - loss: 0.5690 - accuracy: 0.7949\n",
            "Epoch 1/1\n",
            "7200/7200 [==============================] - 1s 103us/step - loss: 0.5701 - accuracy: 0.7940\n",
            "Epoch 1/1\n",
            "7200/7200 [==============================] - 1s 102us/step - loss: 0.5907 - accuracy: 0.7904\n",
            "Epoch 1/1\n",
            "7200/7200 [==============================] - 1s 101us/step - loss: 0.5785 - accuracy: 0.7935\n",
            "Epoch 1/1\n",
            "7200/7200 [==============================] - 1s 101us/step - loss: 0.6010 - accuracy: 0.7967\n",
            "Epoch 1/1\n",
            "7200/7200 [==============================] - 1s 106us/step - loss: 0.5758 - accuracy: 0.7937\n",
            "Epoch 1/1\n",
            "7200/7200 [==============================] - 1s 102us/step - loss: 0.5909 - accuracy: 0.7918\n",
            "Epoch 1/1\n",
            "7200/7200 [==============================] - 1s 114us/step - loss: 0.5569 - accuracy: 0.7926\n",
            "Epoch 1/1\n",
            "7200/7200 [==============================] - 1s 117us/step - loss: 0.5437 - accuracy: 0.7947\n",
            "Epoch 1/1\n",
            "7200/7200 [==============================] - 1s 114us/step - loss: 0.5568 - accuracy: 0.7953\n",
            "Epoch 1/1\n",
            "7200/7200 [==============================] - 1s 114us/step - loss: 0.6127 - accuracy: 0.7935\n",
            "Epoch 1/1\n",
            "7200/7200 [==============================] - 1s 111us/step - loss: 0.5742 - accuracy: 0.7937\n",
            "Epoch 1/1\n",
            "7200/7200 [==============================] - 1s 112us/step - loss: 0.5457 - accuracy: 0.7904\n",
            "Epoch 1/1\n",
            "7200/7200 [==============================] - 1s 111us/step - loss: 0.5658 - accuracy: 0.7943\n",
            "Epoch 1/1\n",
            "7200/7200 [==============================] - 1s 113us/step - loss: 0.5573 - accuracy: 0.7960\n",
            "Epoch 1/1\n",
            "7200/7200 [==============================] - 1s 111us/step - loss: 0.5597 - accuracy: 0.7926\n",
            "Epoch 1/1\n",
            "7200/7200 [==============================] - 1s 112us/step - loss: 0.5474 - accuracy: 0.7933\n",
            "Epoch 1/1\n",
            "7200/7200 [==============================] - 1s 105us/step - loss: 0.5657 - accuracy: 0.7931\n",
            "Epoch 1/1\n",
            "7200/7200 [==============================] - 1s 103us/step - loss: 0.5744 - accuracy: 0.7949\n",
            "Epoch 1/1\n",
            "7200/7200 [==============================] - 1s 104us/step - loss: 0.6081 - accuracy: 0.7946\n",
            "Epoch 1/1\n",
            "7200/7200 [==============================] - 1s 103us/step - loss: 0.5744 - accuracy: 0.7931\n",
            "Epoch 1/1\n",
            "7200/7200 [==============================] - 1s 100us/step - loss: 0.5574 - accuracy: 0.7944\n",
            "Epoch 1/1\n",
            "7200/7200 [==============================] - 1s 101us/step - loss: 0.5630 - accuracy: 0.7907\n",
            "Epoch 1/1\n",
            "7200/7200 [==============================] - 1s 107us/step - loss: 0.5853 - accuracy: 0.7932\n",
            "Epoch 1/1\n",
            "7200/7200 [==============================] - 1s 100us/step - loss: 0.5651 - accuracy: 0.7971\n",
            "Epoch 1/1\n",
            "7200/7200 [==============================] - 1s 103us/step - loss: 0.5834 - accuracy: 0.7929\n",
            "Epoch 1/1\n",
            "7200/7200 [==============================] - 1s 103us/step - loss: 0.5965 - accuracy: 0.7908\n",
            "Epoch 1/1\n",
            "7200/7200 [==============================] - 1s 91us/step - loss: 0.5978 - accuracy: 0.7907\n",
            "Epoch 1/1\n",
            "7200/7200 [==============================] - 1s 94us/step - loss: 0.5867 - accuracy: 0.7942\n",
            "Epoch 1/1\n",
            "7200/7200 [==============================] - 1s 91us/step - loss: 0.5989 - accuracy: 0.7954\n",
            "Epoch 1/1\n",
            "7200/7200 [==============================] - 1s 93us/step - loss: 0.5924 - accuracy: 0.7935\n",
            "Epoch 1/1\n",
            "7200/7200 [==============================] - 1s 88us/step - loss: 0.5852 - accuracy: 0.7944\n",
            "Epoch 1/1\n",
            "7200/7200 [==============================] - 1s 88us/step - loss: 0.5880 - accuracy: 0.7900\n",
            "Epoch 1/1\n",
            "7200/7200 [==============================] - 1s 88us/step - loss: 0.5646 - accuracy: 0.7943\n",
            "Epoch 1/1\n",
            "7200/7200 [==============================] - 1s 89us/step - loss: 0.6112 - accuracy: 0.7944\n",
            "Epoch 1/1\n",
            "7200/7200 [==============================] - 1s 94us/step - loss: 0.6307 - accuracy: 0.7929\n",
            "Epoch 1/1\n",
            "7200/7200 [==============================] - 1s 93us/step - loss: 0.5956 - accuracy: 0.7922\n",
            "Epoch 1/1\n",
            "7200/7200 [==============================] - 1s 82us/step - loss: 0.6614 - accuracy: 0.7900\n",
            "Epoch 1/1\n",
            "7200/7200 [==============================] - 1s 83us/step - loss: 0.5958 - accuracy: 0.7946\n",
            "Epoch 1/1\n",
            "7200/7200 [==============================] - 1s 84us/step - loss: 0.5956 - accuracy: 0.7967\n",
            "Epoch 1/1\n",
            "7200/7200 [==============================] - 1s 83us/step - loss: 0.5973 - accuracy: 0.7921\n",
            "Epoch 1/1\n",
            "7200/7200 [==============================] - 1s 81us/step - loss: 0.6126 - accuracy: 0.7925\n",
            "Epoch 1/1\n",
            "7200/7200 [==============================] - 1s 84us/step - loss: 0.6058 - accuracy: 0.7893\n",
            "Epoch 1/1\n",
            "7200/7200 [==============================] - 1s 83us/step - loss: 0.6019 - accuracy: 0.7932\n",
            "Epoch 1/1\n",
            "7200/7200 [==============================] - 1s 85us/step - loss: 0.6171 - accuracy: 0.7950\n",
            "Epoch 1/1\n",
            "7200/7200 [==============================] - 1s 83us/step - loss: 0.5962 - accuracy: 0.7939\n",
            "Epoch 1/1\n",
            "7200/7200 [==============================] - 1s 84us/step - loss: 0.6041 - accuracy: 0.7933\n",
            "Epoch 1/1\n",
            "7200/7200 [==============================] - 1s 95us/step - loss: 0.5948 - accuracy: 0.7918\n",
            "Epoch 1/1\n",
            "7200/7200 [==============================] - 1s 96us/step - loss: 0.6014 - accuracy: 0.7936\n",
            "Epoch 1/1\n",
            "7200/7200 [==============================] - 1s 94us/step - loss: 0.6108 - accuracy: 0.7944\n",
            "Epoch 1/1\n",
            "7200/7200 [==============================] - 1s 93us/step - loss: 0.5990 - accuracy: 0.7933\n",
            "Epoch 1/1\n",
            "7200/7200 [==============================] - 1s 93us/step - loss: 0.6045 - accuracy: 0.7931\n",
            "Epoch 1/1\n",
            "7200/7200 [==============================] - 1s 94us/step - loss: 0.5833 - accuracy: 0.7904\n",
            "Epoch 1/1\n",
            "7200/7200 [==============================] - 1s 90us/step - loss: 0.5938 - accuracy: 0.7915\n",
            "Epoch 1/1\n",
            "7200/7200 [==============================] - 1s 94us/step - loss: 0.6285 - accuracy: 0.7944\n",
            "Epoch 1/1\n",
            "7200/7200 [==============================] - 1s 94us/step - loss: 0.5714 - accuracy: 0.7918\n",
            "Epoch 1/1\n",
            "7200/7200 [==============================] - 1s 93us/step - loss: 0.6003 - accuracy: 0.7912\n",
            "Epoch 1/1\n",
            "7200/7200 [==============================] - 1s 84us/step - loss: 0.6128 - accuracy: 0.7910\n",
            "Epoch 1/1\n",
            "7200/7200 [==============================] - 1s 87us/step - loss: 0.6143 - accuracy: 0.7918\n",
            "Epoch 1/1\n",
            "7200/7200 [==============================] - 1s 83us/step - loss: 0.5929 - accuracy: 0.7968\n",
            "Epoch 1/1\n",
            "7200/7200 [==============================] - 1s 85us/step - loss: 0.6059 - accuracy: 0.7935\n",
            "Epoch 1/1\n",
            "7200/7200 [==============================] - 1s 87us/step - loss: 0.6070 - accuracy: 0.7949\n",
            "Epoch 1/1\n",
            "7200/7200 [==============================] - 1s 88us/step - loss: 0.6158 - accuracy: 0.7897\n",
            "Epoch 1/1\n",
            "7200/7200 [==============================] - 1s 87us/step - loss: 0.5843 - accuracy: 0.7943\n",
            "Epoch 1/1\n",
            "7200/7200 [==============================] - 1s 85us/step - loss: 0.6018 - accuracy: 0.7946\n",
            "Epoch 1/1\n",
            "7200/7200 [==============================] - 1s 85us/step - loss: 0.6167 - accuracy: 0.7933\n",
            "Epoch 1/1\n",
            "7200/7200 [==============================] - 1s 85us/step - loss: 0.6114 - accuracy: 0.7931\n",
            "Epoch 1/1\n",
            "8000/8000 [==============================] - 1s 117us/step - loss: 0.5546 - accuracy: 0.7944\n"
          ],
          "name": "stdout"
        }
      ]
    },
    {
      "cell_type": "code",
      "metadata": {
        "id": "0cT5NTvacpZp",
        "colab_type": "code",
        "colab": {
          "base_uri": "https://localhost:8080/",
          "height": 34
        },
        "outputId": "2b0688fb-38f6-4a89-d629-1e1377468812"
      },
      "source": [
        "best_accuracy"
      ],
      "execution_count": 87,
      "outputs": [
        {
          "output_type": "execute_result",
          "data": {
            "text/plain": [
              "0.7945"
            ]
          },
          "metadata": {
            "tags": []
          },
          "execution_count": 87
        }
      ]
    }
  ]
}