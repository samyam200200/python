{
  "nbformat": 4,
  "nbformat_minor": 0,
  "metadata": {
    "colab": {
      "name": "Untitled4.ipynb",
      "provenance": [],
      "mount_file_id": "107jLE_rnXayvACgGQEWV4v_EewWgXKV-",
      "authorship_tag": "ABX9TyNQ9WCqf3rjhU0lCZtE/tDL",
      "include_colab_link": true
    },
    "kernelspec": {
      "name": "python3",
      "display_name": "Python 3"
    },
    "accelerator": "GPU"
  },
  "cells": [
    {
      "cell_type": "markdown",
      "metadata": {
        "id": "view-in-github",
        "colab_type": "text"
      },
      "source": [
        "<a href=\"https://colab.research.google.com/github/samyam200200/python/blob/master/CNN-diagnosing-COVID19.ipynb\" target=\"_parent\"><img src=\"https://colab.research.google.com/assets/colab-badge.svg\" alt=\"Open In Colab\"/></a>"
      ]
    },
    {
      "cell_type": "code",
      "metadata": {
        "id": "hU5nAPTkRy4-",
        "colab_type": "code",
        "colab": {}
      },
      "source": [
        "#Make ANN - Initialize\n",
        "from keras.models import Sequential\n",
        "#For making convolutional layers\n",
        "from keras.layers import Convolution2D\n",
        "#for pooling \n",
        "from keras.layers import Flatten\n",
        "#for adding layers in ANN\n",
        "from keras.layers import Dense\n",
        "#for maxpooling\n",
        "from keras.layers import MaxPooling2D"
      ],
      "execution_count": 14,
      "outputs": []
    },
    {
      "cell_type": "code",
      "metadata": {
        "id": "kfGTQjAPR5O7",
        "colab_type": "code",
        "colab": {}
      },
      "source": [
        "classifier=Sequential()"
      ],
      "execution_count": 15,
      "outputs": []
    },
    {
      "cell_type": "code",
      "metadata": {
        "id": "OLBMyogeSJMN",
        "colab_type": "code",
        "colab": {}
      },
      "source": [
        "classifier.add(Convolution2D(filters=64, kernel_size=3, input_shape=(256,256,3), activation=\"relu\"))"
      ],
      "execution_count": 16,
      "outputs": []
    },
    {
      "cell_type": "code",
      "metadata": {
        "id": "ewkq4-hSTDe7",
        "colab_type": "code",
        "colab": {}
      },
      "source": [
        "classifier.add(MaxPooling2D(pool_size=(2,2)))"
      ],
      "execution_count": 17,
      "outputs": []
    },
    {
      "cell_type": "code",
      "metadata": {
        "id": "Nied3eLPTQYW",
        "colab_type": "code",
        "colab": {}
      },
      "source": [
        "classifier.add(Flatten())"
      ],
      "execution_count": 18,
      "outputs": []
    },
    {
      "cell_type": "code",
      "metadata": {
        "id": "E0qEci7aTU7v",
        "colab_type": "code",
        "colab": {}
      },
      "source": [
        "#making ANN to classify\n",
        "# hidden layer - fully connected layer - choose layer with experimentation - pick power of 2 - choose a big number\n",
        "classifier.add(Dense(units=256, activation=\"relu\"))\n",
        "# the final layer - that provides the output # use softmax for multipe outputs\n",
        "classifier.add(Dense(units=1, activation=\"sigmoid\"))"
      ],
      "execution_count": 19,
      "outputs": []
    },
    {
      "cell_type": "code",
      "metadata": {
        "id": "HWXNSvvsTiMu",
        "colab_type": "code",
        "colab": {}
      },
      "source": [
        "#using to compile with the loss function and performance matrix\n",
        "#multiple outcome use categorical _crossentropy\n",
        "classifier.compile(optimizer='adam', loss='binary_crossentropy', metrics=['accuracy'])"
      ],
      "execution_count": 20,
      "outputs": []
    },
    {
      "cell_type": "code",
      "metadata": {
        "id": "AH6siF2tTj0_",
        "colab_type": "code",
        "colab": {
          "base_uri": "https://localhost:8080/",
          "height": 35
        },
        "outputId": "7a362f21-7440-4073-9af3-57e0e3ddf60a"
      },
      "source": [
        "#importing dataset\n",
        "import shutil\n",
        "shutil.copy(\"/content/drive/My Drive/DATASETS.zip\", \"/content/sample_data/COVID.zip\")"
      ],
      "execution_count": 21,
      "outputs": [
        {
          "output_type": "execute_result",
          "data": {
            "application/vnd.google.colaboratory.intrinsic": {
              "type": "string"
            },
            "text/plain": [
              "'/content/sample_data/COVID.zip'"
            ]
          },
          "metadata": {
            "tags": []
          },
          "execution_count": 21
        }
      ]
    },
    {
      "cell_type": "code",
      "metadata": {
        "id": "vtFZndetT6_u",
        "colab_type": "code",
        "colab": {}
      },
      "source": [
        "# Unzipping\n",
        "!unzip /content/sample_data/COVID.zip -d /content/sample_data/ABC"
      ],
      "execution_count": null,
      "outputs": []
    },
    {
      "cell_type": "code",
      "metadata": {
        "id": "pswuuElvbpEJ",
        "colab_type": "code",
        "colab": {}
      },
      "source": [
        "from keras.preprocessing.image import ImageDataGenerator"
      ],
      "execution_count": 23,
      "outputs": []
    },
    {
      "cell_type": "code",
      "metadata": {
        "id": "YxRMuzbKbx7a",
        "colab_type": "code",
        "colab": {}
      },
      "source": [
        "#Fitting CNN to the Images - first do image augmentation - which prevents overfitting\n",
        "#enrich data set with small amount of data set - rescale, \n",
        "#shearing - pixel moved (geometrical transformation), zooming, horizontal flip etc.\n",
        "#rescale data - then generate training and test set\n",
        "#image data generates data\n",
        "train_datagen = ImageDataGenerator(rescale=1./255,\n",
        "        shear_range=0.2,\n",
        "        zoom_range=0.2,\n",
        "        horizontal_flip=True)\n",
        "#preprocesing of the test data to scale of 1-255\n",
        "test_datagen = ImageDataGenerator(rescale=1./255)\n",
        "\n",
        "training_set= train_datagen.flow_from_directory('/content/sample_data/ABC/DATASETS/Training',\n",
        "        target_size=(256, 256),\n",
        "        batch_size=32,\n",
        "        class_mode='binary')\n",
        "# resizes to 64*64 dimensons\n",
        "test_set = test_datagen.flow_from_directory('/content/sample_data/ABC/DATASETS/Test',\n",
        "        target_size=(256, 256),\n",
        "        batch_size=32,\n",
        "        class_mode='binary')"
      ],
      "execution_count": null,
      "outputs": []
    },
    {
      "cell_type": "code",
      "metadata": {
        "id": "PEhDR0r6b06m",
        "colab_type": "code",
        "colab": {}
      },
      "source": [
        "#steps per epoch = number of images in training set\n",
        "# validation_steps - number of images in test set\n",
        "classifier.fit(training_set,\n",
        "        steps_per_epoch=126,\n",
        "        epochs=25,\n",
        "        validation_data=test_set,\n",
        "        validation_steps=28)"
      ],
      "execution_count": null,
      "outputs": []
    }
  ]
}